{
 "cells": [
  {
   "cell_type": "code",
   "execution_count": null,
   "metadata": {
    "colab": {
     "base_uri": "https://localhost:8080/"
    },
    "id": "sP1FDIkrTwqR",
    "outputId": "514f16cd-3ce7-4586-f69f-e39d29985239"
   },
   "outputs": [],
   "source": [
    "# Download Packages\n",
    "!pip install xgboost\n",
    "!pip install seaborn\n",
    "!pip install tensorflow\n",
    "!pip install keras\n",
    "!pip install opencv-python\n",
    "!pip install glob\n",
    "!pip install matplotlib\n",
    "!pip install sklearn\n",
    "!pip install numpy\n",
    "!pip install pandas\n",
    "!pip install tqdm\n",
    "!pip install pillow\n",
    "!pip install imutils\n"
   ]
  },
  {
   "cell_type": "code",
   "execution_count": null,
   "metadata": {
    "colab": {
     "base_uri": "https://localhost:8080/"
    },
    "id": "zOrqr6wUWvbB",
    "outputId": "6d4a8d5c-21de-43b5-d937-e3ce8eacb6ff"
   },
   "outputs": [],
   "source": [
    "!pip install --upgrade tensorflow"
   ]
  },
  {
   "cell_type": "code",
   "execution_count": 2,
   "metadata": {
    "colab": {
     "base_uri": "https://localhost:8080/"
    },
    "id": "V-jaD5LUTMR7",
    "outputId": "6052e8ec-dcbb-4571-9181-a71ce21d0463"
   },
   "outputs": [
    {
     "name": "stdout",
     "output_type": "stream",
     "text": [
      "Processing training data...\n",
      "WARNING:tensorflow:From C:\\Users\\avjot\\AppData\\Roaming\\Python\\Python39\\site-packages\\keras\\src\\backend\\common\\global_state.py:82: The name tf.reset_default_graph is deprecated. Please use tf.compat.v1.reset_default_graph instead.\n",
      "\n",
      "\n",
      "Processing test data...\n",
      "\n",
      "Training XGBoost model...\n",
      "\n",
      "Accuracy: 0.8028846153846154\n"
     ]
    },
    {
     "data": {
      "image/png": "[encoded data removed]",
      "text/plain": [
       "<Figure size 576x432 with 2 Axes>"
      ]
     },
     "metadata": {
      "needs_background": "light"
     },
     "output_type": "display_data"
    },
    {
     "name": "stdout",
     "output_type": "stream",
     "text": [
      "\n",
      "Sample Prediction:\n",
      "Predicted: PNEUMONIA\n",
      "Actual: PNEUMONIA\n",
      "\n",
      "Models saved successfully!\n"
     ]
    }
   ],
   "source": [
    "# Import libraries\n",
    "import os\n",
    "import cv2\n",
    "import glob\n",
    "import numpy as np\n",
    "import matplotlib.pyplot as plt\n",
    "import seaborn as sns\n",
    "from sklearn import preprocessing\n",
    "from sklearn.metrics import confusion_matrix, accuracy_score\n",
    "import tensorflow as tf\n",
    "from tensorflow.keras.applications import EfficientNetB0\n",
    "from tensorflow.keras.layers import GlobalAveragePooling2D\n",
    "import xgboost as xgb\n",
    "import joblib\n",
    "\n",
    "# Set up matplotlib for Jupyter\n",
    "%matplotlib inline\n",
    "\n",
    "#---------------------------------------------------------------\n",
    "# Configuration\n",
    "#---------------------------------------------------------------\n",
    "BASE_DIR = \"./chest-xray-pneumonia-detection-master/dataset/chest_xray\"\n",
    "SIZE = 224\n",
    "BATCH_SIZE = 8\n",
    "FEATURE_BATCH_SIZE = 32\n",
    "\n",
    "#---------------------------------------------------------------\n",
    "# Memory Optimization\n",
    "#---------------------------------------------------------------\n",
    "gpus = tf.config.list_physical_devices('GPU')\n",
    "if gpus:\n",
    "    try:\n",
    "        for gpu in gpus:\n",
    "            tf.config.experimental.set_memory_growth(gpu, True)\n",
    "    except RuntimeError as e:\n",
    "        print(e)\n",
    "\n",
    "#---------------------------------------------------------------\n",
    "# Data Processing Functions\n",
    "#---------------------------------------------------------------\n",
    "def process_dataset(directory, encoder, feature_extractor):\n",
    "    features = []\n",
    "    labels = []\n",
    "    \n",
    "    for class_dir in glob.glob(os.path.join(directory, \"*\")):\n",
    "        label = os.path.basename(class_dir)\n",
    "        paths = glob.glob(os.path.join(class_dir, \"*.jpg\")) + \\\n",
    "                glob.glob(os.path.join(class_dir, \"*.jpeg\"))\n",
    "        \n",
    "        for i in range(0, len(paths), BATCH_SIZE):\n",
    "            batch_images = []\n",
    "            batch_paths = paths[i:i+BATCH_SIZE]\n",
    "            \n",
    "            for path in batch_paths:\n",
    "                img = cv2.imread(path)\n",
    "                if img is None:\n",
    "                    continue\n",
    "                img = cv2.resize(img, (SIZE, SIZE))\n",
    "                img = cv2.cvtColor(img, cv2.COLOR_BGR2RGB)\n",
    "                batch_images.append(img.astype(np.float32)/255.0)\n",
    "            \n",
    "            if batch_images:\n",
    "                batch_features = feature_extractor.predict(np.array(batch_images), verbose=0)\n",
    "                features.append(batch_features)\n",
    "                labels.extend([label] * len(batch_images))\n",
    "                \n",
    "                del batch_images, batch_features\n",
    "                tf.keras.backend.clear_session()\n",
    "                \n",
    "            if len(features) >= FEATURE_BATCH_SIZE:\n",
    "                yield np.vstack(features), encoder.transform(labels)\n",
    "                features.clear()\n",
    "                labels.clear()\n",
    "    \n",
    "    if len(features) > 0:\n",
    "        yield np.vstack(features), encoder.transform(labels)\n",
    "\n",
    "#---------------------------------------------------------------\n",
    "# Main Execution\n",
    "#---------------------------------------------------------------\n",
    "def main():\n",
    "    # Initialize label encoder\n",
    "    le = preprocessing.LabelEncoder()\n",
    "    le.fit([\"NORMAL\", \"PNEUMONIA\"])\n",
    "    \n",
    "    # Verify dataset\n",
    "    train_dir = os.path.join(BASE_DIR, \"train\")\n",
    "    test_dir = os.path.join(BASE_DIR, \"test\")\n",
    "    for d in [train_dir, test_dir]:\n",
    "        if not os.path.exists(d):\n",
    "            raise FileNotFoundError(f\"Directory not found: {d}\")\n",
    "\n",
    "    # Create feature extractor\n",
    "    base_model = EfficientNetB0(weights='imagenet', include_top=False, input_shape=(SIZE, SIZE, 3))\n",
    "    x = GlobalAveragePooling2D()(base_model.output)\n",
    "    feature_extractor = tf.keras.Model(inputs=base_model.input, outputs=x)\n",
    "    \n",
    "    # Process training data\n",
    "    print(\"Processing training data...\")\n",
    "    train_features, train_labels = [], []\n",
    "    for features, labels in process_dataset(train_dir, le, feature_extractor):\n",
    "        train_features.append(features)\n",
    "        train_labels.append(labels)\n",
    "    train_features = np.vstack(train_features)\n",
    "    train_labels = np.concatenate(train_labels)\n",
    "    \n",
    "    # Process test data\n",
    "    print(\"\\nProcessing test data...\")\n",
    "    test_features, test_labels = [], []\n",
    "    for features, labels in process_dataset(test_dir, le, feature_extractor):\n",
    "        test_features.append(features)\n",
    "        test_labels.append(labels)\n",
    "    test_features = np.vstack(test_features)\n",
    "    test_labels = np.concatenate(test_labels)\n",
    "    \n",
    "    # Calculate class weights\n",
    "    class_counts = np.bincount(train_labels)\n",
    "    scale_pos_weight = class_counts[0]/class_counts[1]  # NORMAL/PNEUMONIA\n",
    "    \n",
    "    # Train classifier\n",
    "    print(\"\\nTraining XGBoost model...\")\n",
    "    model = xgb.XGBClassifier(\n",
    "        tree_method='hist',\n",
    "        device='cuda' if gpus else 'cpu',\n",
    "        scale_pos_weight=scale_pos_weight,\n",
    "        n_estimators=200,\n",
    "        learning_rate=0.01\n",
    "    )\n",
    "    model.fit(train_features, train_labels)\n",
    "    \n",
    "    # Evaluate with adjusted threshold\n",
    "    probs = model.predict_proba(test_features)[:, 1]\n",
    "    predictions = (probs > 0.6).astype(int)  # Reduced FP\n",
    "    print(\"\\nAccuracy:\", accuracy_score(test_labels, predictions))\n",
    "    \n",
    "    # Confusion matrix\n",
    "    plt.figure(figsize=(8,6))\n",
    "    sns.heatmap(confusion_matrix(le.inverse_transform(test_labels), \n",
    "                le.inverse_transform(predictions)),\n",
    "                annot=True, fmt='d', cmap='Blues')\n",
    "    plt.title(\"Confusion Matrix\")\n",
    "    plt.show()\n",
    "    \n",
    "    # Sample prediction\n",
    "    sample_idx = np.random.randint(0, len(test_features))\n",
    "    print(\"\\nSample Prediction:\")\n",
    "    print(\"Predicted:\", le.inverse_transform([predictions[sample_idx]])[0])\n",
    "    print(\"Actual:\", le.inverse_transform([test_labels[sample_idx]])[0])\n",
    "    \n",
    "    return model, le  # Return for saving\n",
    "\n",
    "if __name__ == \"__main__\":\n",
    "    trained_model, label_encoder = main()\n",
    "    \n",
    "    # Save models in a separate operation\n",
    "    joblib.dump(trained_model, \"xgb_pneumonia.pkl\")\n",
    "    joblib.dump(label_encoder, \"label_encoder.pkl\")\n",
    "    print(\"\\nModels saved successfully!\")"
   ]
  },
  {
   "cell_type": "code",
   "execution_count": null,
   "metadata": {},
   "outputs": [],
   "source": []
  }
 ],
 "metadata": {
  "accelerator": "GPU",
  "colab": {
   "gpuType": "T4",
   "provenance": []
  },
  "kernelspec": {
   "display_name": "Python 3 (ipykernel)",
   "language": "python",
   "name": "python3"
  },
  "language_info": {
   "codemirror_mode": {
    "name": "ipython",
    "version": 3
   },
   "file_extension": ".py",
   "mimetype": "text/x-python",
   "name": "python",
   "nbconvert_exporter": "python",
   "pygments_lexer": "ipython3",
   "version": "3.9.12"
  }
 },
 "nbformat": 4,
 "nbformat_minor": 1
}
